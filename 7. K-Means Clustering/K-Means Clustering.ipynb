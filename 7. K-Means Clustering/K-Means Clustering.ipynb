{
 "cells": [
  {
   "cell_type": "markdown",
   "metadata": {},
   "source": [
    "### K-Means Clustering"
   ]
  },
  {
   "cell_type": "markdown",
   "metadata": {},
   "source": [
    "We are going to explore K-Means over a crime dataset of London city."
   ]
  },
  {
   "cell_type": "code",
   "execution_count": 1,
   "metadata": {},
   "outputs": [],
   "source": [
    "%matplotlib inline\n",
    "\n",
    "from sklearn.cluster import KMeans\n",
    "import matplotlib.pyplot as plt\n",
    "from sklearn.preprocessing import scale\n",
    "from numpy import random, float\n",
    "import pandas as pd"
   ]
  },
  {
   "cell_type": "markdown",
   "metadata": {},
   "source": [
    "#### Importing the data"
   ]
  },
  {
   "cell_type": "code",
   "execution_count": 28,
   "metadata": {},
   "outputs": [],
   "source": [
    "df = pd.read_csv('crime.csv')"
   ]
  },
  {
   "cell_type": "code",
   "execution_count": 29,
   "metadata": {
    "scrolled": true
   },
   "outputs": [
    {
     "name": "stdout",
     "output_type": "stream",
     "text": [
      "<class 'pandas.core.frame.DataFrame'>\n",
      "RangeIndex: 33 entries, 0 to 32\n",
      "Data columns (total 4 columns):\n",
      "borough    33 non-null object\n",
      "Rape       33 non-null int64\n",
      "Murder     33 non-null int64\n",
      "Assault    33 non-null int64\n",
      "dtypes: int64(3), object(1)\n",
      "memory usage: 1.2+ KB\n"
     ]
    }
   ],
   "source": [
    "df.info()"
   ]
  },
  {
   "cell_type": "code",
   "execution_count": 31,
   "metadata": {},
   "outputs": [
    {
     "data": {
      "text/html": [
       "<div>\n",
       "<style scoped>\n",
       "    .dataframe tbody tr th:only-of-type {\n",
       "        vertical-align: middle;\n",
       "    }\n",
       "\n",
       "    .dataframe tbody tr th {\n",
       "        vertical-align: top;\n",
       "    }\n",
       "\n",
       "    .dataframe thead th {\n",
       "        text-align: right;\n",
       "    }\n",
       "</style>\n",
       "<table border=\"1\" class=\"dataframe\">\n",
       "  <thead>\n",
       "    <tr style=\"text-align: right;\">\n",
       "      <th></th>\n",
       "      <th>borough</th>\n",
       "      <th>Rape</th>\n",
       "      <th>Murder</th>\n",
       "      <th>Assault</th>\n",
       "    </tr>\n",
       "  </thead>\n",
       "  <tbody>\n",
       "    <tr>\n",
       "      <td>0</td>\n",
       "      <td>City of London</td>\n",
       "      <td>0</td>\n",
       "      <td>0</td>\n",
       "      <td>324</td>\n",
       "    </tr>\n",
       "    <tr>\n",
       "      <td>1</td>\n",
       "      <td>Brent</td>\n",
       "      <td>1404</td>\n",
       "      <td>4644</td>\n",
       "      <td>18684</td>\n",
       "    </tr>\n",
       "    <tr>\n",
       "      <td>2</td>\n",
       "      <td>Barnet</td>\n",
       "      <td>648</td>\n",
       "      <td>3024</td>\n",
       "      <td>22788</td>\n",
       "    </tr>\n",
       "    <tr>\n",
       "      <td>3</td>\n",
       "      <td>Bexley</td>\n",
       "      <td>216</td>\n",
       "      <td>1836</td>\n",
       "      <td>15768</td>\n",
       "    </tr>\n",
       "    <tr>\n",
       "      <td>4</td>\n",
       "      <td>Camden</td>\n",
       "      <td>540</td>\n",
       "      <td>2376</td>\n",
       "      <td>14364</td>\n",
       "    </tr>\n",
       "    <tr>\n",
       "      <td>5</td>\n",
       "      <td>Ealing</td>\n",
       "      <td>648</td>\n",
       "      <td>4320</td>\n",
       "      <td>21168</td>\n",
       "    </tr>\n",
       "    <tr>\n",
       "      <td>6</td>\n",
       "      <td>Harrow</td>\n",
       "      <td>864</td>\n",
       "      <td>1512</td>\n",
       "      <td>14796</td>\n",
       "    </tr>\n",
       "    <tr>\n",
       "      <td>7</td>\n",
       "      <td>Merton</td>\n",
       "      <td>972</td>\n",
       "      <td>1188</td>\n",
       "      <td>13392</td>\n",
       "    </tr>\n",
       "    <tr>\n",
       "      <td>8</td>\n",
       "      <td>Newham</td>\n",
       "      <td>1512</td>\n",
       "      <td>5292</td>\n",
       "      <td>17712</td>\n",
       "    </tr>\n",
       "    <tr>\n",
       "      <td>9</td>\n",
       "      <td>Sutton</td>\n",
       "      <td>216</td>\n",
       "      <td>1404</td>\n",
       "      <td>13068</td>\n",
       "    </tr>\n",
       "    <tr>\n",
       "      <td>10</td>\n",
       "      <td>Bromley</td>\n",
       "      <td>432</td>\n",
       "      <td>1296</td>\n",
       "      <td>21276</td>\n",
       "    </tr>\n",
       "    <tr>\n",
       "      <td>11</td>\n",
       "      <td>Croydon</td>\n",
       "      <td>1944</td>\n",
       "      <td>4104</td>\n",
       "      <td>23760</td>\n",
       "    </tr>\n",
       "    <tr>\n",
       "      <td>12</td>\n",
       "      <td>Enfield</td>\n",
       "      <td>756</td>\n",
       "      <td>3888</td>\n",
       "      <td>19764</td>\n",
       "    </tr>\n",
       "    <tr>\n",
       "      <td>13</td>\n",
       "      <td>Hackney</td>\n",
       "      <td>972</td>\n",
       "      <td>4320</td>\n",
       "      <td>15552</td>\n",
       "    </tr>\n",
       "    <tr>\n",
       "      <td>14</td>\n",
       "      <td>Lambeth</td>\n",
       "      <td>1296</td>\n",
       "      <td>5292</td>\n",
       "      <td>19224</td>\n",
       "    </tr>\n",
       "    <tr>\n",
       "      <td>15</td>\n",
       "      <td>Haringey</td>\n",
       "      <td>1404</td>\n",
       "      <td>3888</td>\n",
       "      <td>15660</td>\n",
       "    </tr>\n",
       "    <tr>\n",
       "      <td>16</td>\n",
       "      <td>Havering</td>\n",
       "      <td>540</td>\n",
       "      <td>972</td>\n",
       "      <td>16200</td>\n",
       "    </tr>\n",
       "    <tr>\n",
       "      <td>17</td>\n",
       "      <td>Hounslow</td>\n",
       "      <td>864</td>\n",
       "      <td>1080</td>\n",
       "      <td>15336</td>\n",
       "    </tr>\n",
       "    <tr>\n",
       "      <td>18</td>\n",
       "      <td>Lewisham</td>\n",
       "      <td>1512</td>\n",
       "      <td>4536</td>\n",
       "      <td>18252</td>\n",
       "    </tr>\n",
       "    <tr>\n",
       "      <td>19</td>\n",
       "      <td>Greenwich</td>\n",
       "      <td>648</td>\n",
       "      <td>4212</td>\n",
       "      <td>16308</td>\n",
       "    </tr>\n",
       "    <tr>\n",
       "      <td>20</td>\n",
       "      <td>Islington</td>\n",
       "      <td>648</td>\n",
       "      <td>3672</td>\n",
       "      <td>13284</td>\n",
       "    </tr>\n",
       "    <tr>\n",
       "      <td>21</td>\n",
       "      <td>Redbridge</td>\n",
       "      <td>864</td>\n",
       "      <td>2376</td>\n",
       "      <td>17388</td>\n",
       "    </tr>\n",
       "    <tr>\n",
       "      <td>22</td>\n",
       "      <td>Southwark</td>\n",
       "      <td>1080</td>\n",
       "      <td>5076</td>\n",
       "      <td>17928</td>\n",
       "    </tr>\n",
       "    <tr>\n",
       "      <td>23</td>\n",
       "      <td>Hillingdon</td>\n",
       "      <td>648</td>\n",
       "      <td>2376</td>\n",
       "      <td>17388</td>\n",
       "    </tr>\n",
       "    <tr>\n",
       "      <td>24</td>\n",
       "      <td>Wandsworth</td>\n",
       "      <td>1188</td>\n",
       "      <td>3456</td>\n",
       "      <td>19332</td>\n",
       "    </tr>\n",
       "    <tr>\n",
       "      <td>25</td>\n",
       "      <td>Westminster</td>\n",
       "      <td>540</td>\n",
       "      <td>2808</td>\n",
       "      <td>13824</td>\n",
       "    </tr>\n",
       "    <tr>\n",
       "      <td>26</td>\n",
       "      <td>Tower Hamlets</td>\n",
       "      <td>1188</td>\n",
       "      <td>4104</td>\n",
       "      <td>15552</td>\n",
       "    </tr>\n",
       "    <tr>\n",
       "      <td>27</td>\n",
       "      <td>Waltham Forest</td>\n",
       "      <td>972</td>\n",
       "      <td>3456</td>\n",
       "      <td>15552</td>\n",
       "    </tr>\n",
       "    <tr>\n",
       "      <td>28</td>\n",
       "      <td>Barking and Dagenham</td>\n",
       "      <td>432</td>\n",
       "      <td>2052</td>\n",
       "      <td>11880</td>\n",
       "    </tr>\n",
       "    <tr>\n",
       "      <td>29</td>\n",
       "      <td>Kingston upon Thames</td>\n",
       "      <td>540</td>\n",
       "      <td>648</td>\n",
       "      <td>10584</td>\n",
       "    </tr>\n",
       "    <tr>\n",
       "      <td>30</td>\n",
       "      <td>Richmond upon Thames</td>\n",
       "      <td>216</td>\n",
       "      <td>432</td>\n",
       "      <td>12420</td>\n",
       "    </tr>\n",
       "    <tr>\n",
       "      <td>31</td>\n",
       "      <td>Hammersmith and Fulham</td>\n",
       "      <td>648</td>\n",
       "      <td>1944</td>\n",
       "      <td>12204</td>\n",
       "    </tr>\n",
       "    <tr>\n",
       "      <td>32</td>\n",
       "      <td>Kensington and Chelsea</td>\n",
       "      <td>648</td>\n",
       "      <td>756</td>\n",
       "      <td>11124</td>\n",
       "    </tr>\n",
       "  </tbody>\n",
       "</table>\n",
       "</div>"
      ],
      "text/plain": [
       "                   borough  Rape  Murder  Assault\n",
       "0           City of London     0       0      324\n",
       "1                    Brent  1404    4644    18684\n",
       "2                   Barnet   648    3024    22788\n",
       "3                   Bexley   216    1836    15768\n",
       "4                   Camden   540    2376    14364\n",
       "5                   Ealing   648    4320    21168\n",
       "6                   Harrow   864    1512    14796\n",
       "7                   Merton   972    1188    13392\n",
       "8                   Newham  1512    5292    17712\n",
       "9                   Sutton   216    1404    13068\n",
       "10                 Bromley   432    1296    21276\n",
       "11                 Croydon  1944    4104    23760\n",
       "12                 Enfield   756    3888    19764\n",
       "13                 Hackney   972    4320    15552\n",
       "14                 Lambeth  1296    5292    19224\n",
       "15                Haringey  1404    3888    15660\n",
       "16                Havering   540     972    16200\n",
       "17                Hounslow   864    1080    15336\n",
       "18                Lewisham  1512    4536    18252\n",
       "19               Greenwich   648    4212    16308\n",
       "20               Islington   648    3672    13284\n",
       "21               Redbridge   864    2376    17388\n",
       "22               Southwark  1080    5076    17928\n",
       "23              Hillingdon   648    2376    17388\n",
       "24              Wandsworth  1188    3456    19332\n",
       "25             Westminster   540    2808    13824\n",
       "26           Tower Hamlets  1188    4104    15552\n",
       "27          Waltham Forest   972    3456    15552\n",
       "28    Barking and Dagenham   432    2052    11880\n",
       "29    Kingston upon Thames   540     648    10584\n",
       "30    Richmond upon Thames   216     432    12420\n",
       "31  Hammersmith and Fulham   648    1944    12204\n",
       "32  Kensington and Chelsea   648     756    11124"
      ]
     },
     "execution_count": 31,
     "metadata": {},
     "output_type": "execute_result"
    }
   ],
   "source": [
    "df"
   ]
  },
  {
   "cell_type": "markdown",
   "metadata": {},
   "source": [
    "#### Preparing the model"
   ]
  },
  {
   "cell_type": "code",
   "execution_count": 9,
   "metadata": {},
   "outputs": [],
   "source": [
    "plt.scatter?"
   ]
  },
  {
   "cell_type": "code",
   "execution_count": 35,
   "metadata": {},
   "outputs": [],
   "source": [
    "new_df = df.drop(['borough'], axis = 1)"
   ]
  },
  {
   "cell_type": "markdown",
   "metadata": {},
   "source": [
    "Dropping borough because we are not interested with the area."
   ]
  },
  {
   "cell_type": "markdown",
   "metadata": {},
   "source": [
    "We are applying the K-Means clustering over the Murders and Rapes with 3 clusters"
   ]
  },
  {
   "cell_type": "code",
   "execution_count": 43,
   "metadata": {},
   "outputs": [
    {
     "name": "stdout",
     "output_type": "stream",
     "text": [
      "[2 1 1 0 0 1 0 0 1 0 1 1 1 0 1 0 0 0 1 1 0 1 1 1 1 0 0 0 0 0 0 0 0]\n"
     ]
    },
    {
     "data": {
      "image/png": "[encoded data removed]",
      "text/plain": [
       "<Figure size 576x432 with 1 Axes>"
      ]
     },
     "metadata": {
      "needs_background": "light"
     },
     "output_type": "display_data"
    }
   ],
   "source": [
    "model = KMeans(n_clusters=3).fit(new_df)\n",
    "\n",
    "plt.figure(figsize=(8, 6))\n",
    "plt.scatter(df['Murder'], df['Rape'], c=model.labels_.astype(float))\n",
    "plt.show()"
   ]
  }
 ],
 "metadata": {
  "kernelspec": {
   "display_name": "Python 3",
   "language": "python",
   "name": "python3"
  },
  "language_info": {
   "codemirror_mode": {
    "name": "ipython",
    "version": 3
   },
   "file_extension": ".py",
   "mimetype": "text/x-python",
   "name": "python",
   "nbconvert_exporter": "python",
   "pygments_lexer": "ipython3",
   "version": "3.7.1"
  }
 },
 "nbformat": 4,
 "nbformat_minor": 2
}
