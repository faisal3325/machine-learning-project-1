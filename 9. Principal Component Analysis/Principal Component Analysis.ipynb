{
 "cells": [
  {
   "cell_type": "markdown",
   "metadata": {},
   "source": [
    "### Principal Component Analysis"
   ]
  },
  {
   "cell_type": "markdown",
   "metadata": {},
   "source": [
    "We are gonna use PCA to identify different types of glasses."
   ]
  },
  {
   "cell_type": "code",
   "execution_count": 8,
   "metadata": {},
   "outputs": [],
   "source": [
    "import pandas as pd\n",
    "from sklearn.decomposition import PCA"
   ]
  },
  {
   "cell_type": "markdown",
   "metadata": {},
   "source": [
    "#### Importing data"
   ]
  },
  {
   "cell_type": "code",
   "execution_count": 3,
   "metadata": {},
   "outputs": [],
   "source": [
    "df = pd.read_csv('glass.csv')"
   ]
  },
  {
   "cell_type": "code",
   "execution_count": 4,
   "metadata": {},
   "outputs": [
    {
     "name": "stdout",
     "output_type": "stream",
     "text": [
      "<class 'pandas.core.frame.DataFrame'>\n",
      "RangeIndex: 214 entries, 0 to 213\n",
      "Data columns (total 10 columns):\n",
      "RI      214 non-null float64\n",
      "Na      214 non-null float64\n",
      "Mg      214 non-null float64\n",
      "Al      214 non-null float64\n",
      "Si      214 non-null float64\n",
      "K       214 non-null float64\n",
      "Ca      214 non-null float64\n",
      "Ba      214 non-null float64\n",
      "Fe      214 non-null float64\n",
      "Type    214 non-null int64\n",
      "dtypes: float64(9), int64(1)\n",
      "memory usage: 16.8 KB\n"
     ]
    }
   ],
   "source": [
    "df.info()"
   ]
  },
  {
   "cell_type": "code",
   "execution_count": 5,
   "metadata": {},
   "outputs": [
    {
     "data": {
      "text/html": [
       "<div>\n",
       "<style scoped>\n",
       "    .dataframe tbody tr th:only-of-type {\n",
       "        vertical-align: middle;\n",
       "    }\n",
       "\n",
       "    .dataframe tbody tr th {\n",
       "        vertical-align: top;\n",
       "    }\n",
       "\n",
       "    .dataframe thead th {\n",
       "        text-align: right;\n",
       "    }\n",
       "</style>\n",
       "<table border=\"1\" class=\"dataframe\">\n",
       "  <thead>\n",
       "    <tr style=\"text-align: right;\">\n",
       "      <th></th>\n",
       "      <th>RI</th>\n",
       "      <th>Na</th>\n",
       "      <th>Mg</th>\n",
       "      <th>Al</th>\n",
       "      <th>Si</th>\n",
       "      <th>K</th>\n",
       "      <th>Ca</th>\n",
       "      <th>Ba</th>\n",
       "      <th>Fe</th>\n",
       "      <th>Type</th>\n",
       "    </tr>\n",
       "  </thead>\n",
       "  <tbody>\n",
       "    <tr>\n",
       "      <td>62</td>\n",
       "      <td>1.52172</td>\n",
       "      <td>13.51</td>\n",
       "      <td>3.86</td>\n",
       "      <td>0.88</td>\n",
       "      <td>71.79</td>\n",
       "      <td>0.23</td>\n",
       "      <td>9.54</td>\n",
       "      <td>0.00</td>\n",
       "      <td>0.11</td>\n",
       "      <td>1</td>\n",
       "    </tr>\n",
       "    <tr>\n",
       "      <td>206</td>\n",
       "      <td>1.51645</td>\n",
       "      <td>14.94</td>\n",
       "      <td>0.00</td>\n",
       "      <td>1.87</td>\n",
       "      <td>73.11</td>\n",
       "      <td>0.00</td>\n",
       "      <td>8.67</td>\n",
       "      <td>1.38</td>\n",
       "      <td>0.00</td>\n",
       "      <td>7</td>\n",
       "    </tr>\n",
       "    <tr>\n",
       "      <td>30</td>\n",
       "      <td>1.51768</td>\n",
       "      <td>12.65</td>\n",
       "      <td>3.56</td>\n",
       "      <td>1.30</td>\n",
       "      <td>73.08</td>\n",
       "      <td>0.61</td>\n",
       "      <td>8.69</td>\n",
       "      <td>0.00</td>\n",
       "      <td>0.14</td>\n",
       "      <td>1</td>\n",
       "    </tr>\n",
       "    <tr>\n",
       "      <td>124</td>\n",
       "      <td>1.52177</td>\n",
       "      <td>13.20</td>\n",
       "      <td>3.68</td>\n",
       "      <td>1.15</td>\n",
       "      <td>72.75</td>\n",
       "      <td>0.54</td>\n",
       "      <td>8.52</td>\n",
       "      <td>0.00</td>\n",
       "      <td>0.00</td>\n",
       "      <td>2</td>\n",
       "    </tr>\n",
       "    <tr>\n",
       "      <td>17</td>\n",
       "      <td>1.52196</td>\n",
       "      <td>14.36</td>\n",
       "      <td>3.85</td>\n",
       "      <td>0.89</td>\n",
       "      <td>71.36</td>\n",
       "      <td>0.15</td>\n",
       "      <td>9.15</td>\n",
       "      <td>0.00</td>\n",
       "      <td>0.00</td>\n",
       "      <td>1</td>\n",
       "    </tr>\n",
       "  </tbody>\n",
       "</table>\n",
       "</div>"
      ],
      "text/plain": [
       "          RI     Na    Mg    Al     Si     K    Ca    Ba    Fe  Type\n",
       "62   1.52172  13.51  3.86  0.88  71.79  0.23  9.54  0.00  0.11     1\n",
       "206  1.51645  14.94  0.00  1.87  73.11  0.00  8.67  1.38  0.00     7\n",
       "30   1.51768  12.65  3.56  1.30  73.08  0.61  8.69  0.00  0.14     1\n",
       "124  1.52177  13.20  3.68  1.15  72.75  0.54  8.52  0.00  0.00     2\n",
       "17   1.52196  14.36  3.85  0.89  71.36  0.15  9.15  0.00  0.00     1"
      ]
     },
     "execution_count": 5,
     "metadata": {},
     "output_type": "execute_result"
    }
   ],
   "source": [
    "df.sample(5)"
   ]
  },
  {
   "cell_type": "markdown",
   "metadata": {},
   "source": [
    "### Preparing the model"
   ]
  },
  {
   "cell_type": "markdown",
   "metadata": {},
   "source": [
    "Seperating predictor and target columns"
   ]
  },
  {
   "cell_type": "code",
   "execution_count": 7,
   "metadata": {},
   "outputs": [],
   "source": [
    "X = df.drop('Type', axis = 1)\n",
    "y = df['Type']"
   ]
  },
  {
   "cell_type": "markdown",
   "metadata": {},
   "source": [
    "Applying PCA over X"
   ]
  },
  {
   "cell_type": "code",
   "execution_count": 11,
   "metadata": {},
   "outputs": [
    {
     "data": {
      "text/plain": [
       "PCA(copy=True, iterated_power='auto', n_components=None, random_state=None,\n",
       "  svd_solver='auto', tol=0.0, whiten=False)"
      ]
     },
     "execution_count": 11,
     "metadata": {},
     "output_type": "execute_result"
    }
   ],
   "source": [
    "pca = PCA()\n",
    "pca.fit(X)"
   ]
  },
  {
   "cell_type": "markdown",
   "metadata": {},
   "source": [
    "Checking the components"
   ]
  },
  {
   "cell_type": "code",
   "execution_count": 13,
   "metadata": {},
   "outputs": [
    {
     "name": "stdout",
     "output_type": "stream",
     "text": [
      "[[ 9.28126899e-04  1.72248332e-02 -7.23534913e-01  4.63352227e-02\n",
      "  -7.69381480e-03 -7.84042855e-02  6.79716799e-01  7.63580112e-02\n",
      "   9.05695250e-04]\n",
      " [-1.52290883e-03  3.98797552e-01 -5.43050989e-01  2.58840747e-01\n",
      "   1.94092491e-01  1.03826640e-01 -6.16724638e-01  2.23545134e-01\n",
      "  -1.67842645e-02]\n",
      " [-1.37689385e-03 -6.54934730e-01 -1.31198879e-01  5.56521411e-02\n",
      "   6.91951335e-01  2.18565071e-01 -7.87784202e-02 -1.33876425e-01\n",
      "   7.21253225e-03]\n",
      " [ 3.10643441e-04 -3.46599960e-01 -9.86931157e-02  2.70893633e-01\n",
      "  -5.70087029e-01  6.77700643e-01 -5.39461282e-02  9.71284426e-02\n",
      "   1.10986100e-02]\n",
      " [ 7.12950233e-04 -3.98381798e-01  7.68490459e-02  3.13525755e-01\n",
      "  -1.03320001e-01 -5.08016303e-01 -6.57426026e-02  6.80657156e-01\n",
      "   2.67473294e-02]\n",
      " [ 1.82174928e-03 -1.55680962e-02 -4.77602532e-02 -7.80387063e-01\n",
      "   6.02933593e-02  2.65187354e-01 -2.88933651e-02  5.60066050e-01\n",
      "  -9.36624304e-04]\n",
      " [-3.32594524e-04 -3.76900981e-02 -7.49534298e-02 -7.48038453e-02\n",
      "  -5.87295419e-02 -6.03758664e-02 -7.38051328e-02 -7.89204527e-02\n",
      "   9.84172584e-01]\n",
      " [-4.12235755e-03 -3.62242832e-01 -3.75274748e-01 -3.76132968e-01\n",
      "  -3.75118036e-01 -3.79436277e-01 -3.71356614e-01 -3.65560818e-01\n",
      "  -1.73868097e-01]\n",
      " [-9.99986948e-01  1.39622177e-03  1.84522571e-03  3.36314085e-05\n",
      "   1.69520029e-04  1.38388000e-03  3.11773530e-03  2.98377146e-03\n",
      "   4.26703166e-04]]\n"
     ]
    }
   ],
   "source": [
    "print(pca.components_)"
   ]
  },
  {
   "cell_type": "markdown",
   "metadata": {},
   "source": [
    "Checking the variance ratio, this will show us how much info we have been able to retain after reducing dimensions."
   ]
  },
  {
   "cell_type": "code",
   "execution_count": 15,
   "metadata": {},
   "outputs": [
    {
     "name": "stdout",
     "output_type": "stream",
     "text": [
      "[4.76205247e-01 2.63192760e-01 1.07800432e-01 1.02024637e-01\n",
      " 3.30672372e-02 1.60477360e-02 1.42743130e-03 2.34365001e-04\n",
      " 1.53917702e-07]\n"
     ]
    }
   ],
   "source": [
    "print(pca.explained_variance_ratio_)"
   ]
  },
  {
   "cell_type": "markdown",
   "metadata": {},
   "source": [
    "Taking the sum"
   ]
  },
  {
   "cell_type": "code",
   "execution_count": 16,
   "metadata": {},
   "outputs": [
    {
     "name": "stdout",
     "output_type": "stream",
     "text": [
      "0.9999999999999998\n"
     ]
    }
   ],
   "source": [
    "print(sum(pca.explained_variance_ratio_))"
   ]
  },
  {
   "cell_type": "markdown",
   "metadata": {},
   "source": [
    "We have reatined a good amount of data, i.e. 99%."
   ]
  }
 ],
 "metadata": {
  "kernelspec": {
   "display_name": "Python 3",
   "language": "python",
   "name": "python3"
  },
  "language_info": {
   "codemirror_mode": {
    "name": "ipython",
    "version": 3
   },
   "file_extension": ".py",
   "mimetype": "text/x-python",
   "name": "python",
   "nbconvert_exporter": "python",
   "pygments_lexer": "ipython3",
   "version": "3.7.1"
  }
 },
 "nbformat": 4,
 "nbformat_minor": 2
}
